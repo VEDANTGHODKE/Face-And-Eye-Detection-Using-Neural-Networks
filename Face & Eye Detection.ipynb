{
 "cells": [
  {
   "cell_type": "code",
   "execution_count": 1,
   "metadata": {
    "collapsed": true
   },
   "outputs": [],
   "source": [
    "import cv2\n",
    "import numpy as np"
   ]
  },
  {
   "cell_type": "code",
   "execution_count": 2,
   "metadata": {
    "collapsed": true
   },
   "outputs": [],
   "source": [
    "face_classifier=cv2.CascadeClassifier('C:/Users/mayank singh/Desktop/Opencv/haarcascade_frontalface_default.xml')\n",
    "eye_classifier=cv2.CascadeClassifier('C:/Users/mayank singh/Desktop/Opencv/haarcascade_eye.xml')\n",
    "\n",
    "\n",
    "def face_dectector(grayscaletarget,frame):\n",
    "\n",
    "    faces=face_classifier.detectMultiScale(frame,1.3,5)\n",
    "\n",
    "    for (x,y,w,h) in faces:\n",
    "        cv2.rectangle(frame,(x,y),(x+w,y+h),(225,0,0),5) \n",
    "        roi_gray=grayscaletarget[y:y+h,x:x+w] \n",
    "        roi_color=frame[y:y+h,x:x+w]\n",
    "        eye=eye_classifier.detectMultiScale(roi_gray,1.1,3)\n",
    "        for (ex,ey,ew,eh) in eye:\n",
    "            cv2.rectangle(roi_color,(ex,ey),(ex+ew,ey+eh),(225,0,0),2)\n",
    "            #cv2.circle(roi_color,(4+ex+int(ew/2),4+ey+int(eh/2)),2,(0,225,0),2)    \n",
    "    return frame\n",
    "\n",
    "\n",
    "cap = cv2.VideoCapture(0)\n",
    "\n",
    "\n",
    "while (cap.isOpened()):\n",
    "    ret, frame=cap.read()\n",
    "    if ret:\n",
    "        grayscaletarget=cv2.cvtColor(frame,cv2.COLOR_BGR2GRAY)  \n",
    "        canvas=face_dectector(grayscaletarget,frame)\n",
    "        cv2.imshow('Live face dectector',cv2.flip(canvas,1))\n",
    "    if cv2.waitKey(1)==13:\n",
    "        break\n",
    "    \n",
    "\n",
    "cap.release()\n",
    "cv2.destroyAllWindows()"
   ]
  }
 ],
 "metadata": {
  "kernelspec": {
   "display_name": "Python 3",
   "language": "python",
   "name": "python3"
  },
  "language_info": {
   "codemirror_mode": {
    "name": "ipython",
    "version": 3
   },
   "file_extension": ".py",
   "mimetype": "text/x-python",
   "name": "python",
   "nbconvert_exporter": "python",
   "pygments_lexer": "ipython3",
   "version": "3.6.2"
  }
 },
 "nbformat": 4,
 "nbformat_minor": 2
}
